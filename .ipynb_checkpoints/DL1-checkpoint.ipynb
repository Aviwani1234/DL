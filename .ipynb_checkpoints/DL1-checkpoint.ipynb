{
 "cells": [
  {
   "cell_type": "markdown",
   "id": "d02bbfe3",
   "metadata": {},
   "source": [
    "# Tensorflow Test Program"
   ]
  },
  {
   "cell_type": "markdown",
   "id": "c20f2d14",
   "metadata": {},
   "source": [
    "Installation of Tensorflow"
   ]
  },
  {
   "cell_type": "code",
   "execution_count": 2,
   "id": "905055ca",
   "metadata": {},
   "outputs": [
    {
     "name": "stdout",
     "output_type": "stream",
     "text": [
      "Defaulting to user installation because normal site-packages is not writeable\n",
      "Collecting tensorflow\n",
      "  Downloading tensorflow-2.14.0-cp310-cp310-manylinux_2_17_x86_64.manylinux2014_x86_64.whl (489.8 MB)\n",
      "\u001b[2K     \u001b[38;2;249;38;114m━━\u001b[0m\u001b[38;5;237m╺\u001b[0m\u001b[38;5;237m━━━━━━━━━━━━━━━━━━━━━━━━━━━━━━━━━━━━━\u001b[0m \u001b[32m24.6/489.8 MB\u001b[0m \u001b[31m1.0 MB/s\u001b[0m eta \u001b[36m0:07:41\u001b[0m:47\u001b[0m\n",
      "\u001b[?25h\u001b[31mERROR: Exception:\n",
      "Traceback (most recent call last):\n",
      "  File \"/home/pratik/.local/lib/python3.10/site-packages/pip/_vendor/urllib3/response.py\", line 438, in _error_catcher\n",
      "    yield\n",
      "  File \"/home/pratik/.local/lib/python3.10/site-packages/pip/_vendor/urllib3/response.py\", line 561, in read\n",
      "    data = self._fp_read(amt) if not fp_closed else b\"\"\n",
      "  File \"/home/pratik/.local/lib/python3.10/site-packages/pip/_vendor/urllib3/response.py\", line 527, in _fp_read\n",
      "    return self._fp.read(amt) if amt is not None else self._fp.read()\n",
      "  File \"/home/pratik/.local/lib/python3.10/site-packages/pip/_vendor/cachecontrol/filewrapper.py\", line 90, in read\n",
      "    data = self.__fp.read(amt)\n",
      "  File \"/usr/lib/python3.10/http/client.py\", line 466, in read\n",
      "    s = self.fp.read(amt)\n",
      "  File \"/usr/lib/python3.10/socket.py\", line 705, in readinto\n",
      "    return self._sock.recv_into(b)\n",
      "  File \"/usr/lib/python3.10/ssl.py\", line 1274, in recv_into\n",
      "    return self.read(nbytes, buffer)\n",
      "  File \"/usr/lib/python3.10/ssl.py\", line 1130, in read\n",
      "    return self._sslobj.read(len, buffer)\n",
      "TimeoutError: The read operation timed out\n",
      "\n",
      "During handling of the above exception, another exception occurred:\n",
      "\n",
      "Traceback (most recent call last):\n",
      "  File \"/home/pratik/.local/lib/python3.10/site-packages/pip/_internal/cli/base_command.py\", line 169, in exc_logging_wrapper\n",
      "    status = run_func(*args)\n",
      "  File \"/home/pratik/.local/lib/python3.10/site-packages/pip/_internal/cli/req_command.py\", line 248, in wrapper\n",
      "    return func(self, options, args)\n",
      "  File \"/home/pratik/.local/lib/python3.10/site-packages/pip/_internal/commands/install.py\", line 377, in run\n",
      "    requirement_set = resolver.resolve(\n",
      "  File \"/home/pratik/.local/lib/python3.10/site-packages/pip/_internal/resolution/resolvelib/resolver.py\", line 92, in resolve\n",
      "    result = self._result = resolver.resolve(\n",
      "  File \"/home/pratik/.local/lib/python3.10/site-packages/pip/_vendor/resolvelib/resolvers.py\", line 546, in resolve\n",
      "    state = resolution.resolve(requirements, max_rounds=max_rounds)\n",
      "  File \"/home/pratik/.local/lib/python3.10/site-packages/pip/_vendor/resolvelib/resolvers.py\", line 397, in resolve\n",
      "    self._add_to_criteria(self.state.criteria, r, parent=None)\n",
      "  File \"/home/pratik/.local/lib/python3.10/site-packages/pip/_vendor/resolvelib/resolvers.py\", line 173, in _add_to_criteria\n",
      "    if not criterion.candidates:\n",
      "  File \"/home/pratik/.local/lib/python3.10/site-packages/pip/_vendor/resolvelib/structs.py\", line 156, in __bool__\n",
      "    return bool(self._sequence)\n",
      "  File \"/home/pratik/.local/lib/python3.10/site-packages/pip/_internal/resolution/resolvelib/found_candidates.py\", line 155, in __bool__\n",
      "    return any(self)\n",
      "  File \"/home/pratik/.local/lib/python3.10/site-packages/pip/_internal/resolution/resolvelib/found_candidates.py\", line 143, in <genexpr>\n",
      "    return (c for c in iterator if id(c) not in self._incompatible_ids)\n",
      "  File \"/home/pratik/.local/lib/python3.10/site-packages/pip/_internal/resolution/resolvelib/found_candidates.py\", line 47, in _iter_built\n",
      "    candidate = func()\n",
      "  File \"/home/pratik/.local/lib/python3.10/site-packages/pip/_internal/resolution/resolvelib/factory.py\", line 206, in _make_candidate_from_link\n",
      "    self._link_candidate_cache[link] = LinkCandidate(\n",
      "  File \"/home/pratik/.local/lib/python3.10/site-packages/pip/_internal/resolution/resolvelib/candidates.py\", line 293, in __init__\n",
      "    super().__init__(\n",
      "  File \"/home/pratik/.local/lib/python3.10/site-packages/pip/_internal/resolution/resolvelib/candidates.py\", line 156, in __init__\n",
      "    self.dist = self._prepare()\n",
      "  File \"/home/pratik/.local/lib/python3.10/site-packages/pip/_internal/resolution/resolvelib/candidates.py\", line 225, in _prepare\n",
      "    dist = self._prepare_distribution()\n",
      "  File \"/home/pratik/.local/lib/python3.10/site-packages/pip/_internal/resolution/resolvelib/candidates.py\", line 304, in _prepare_distribution\n",
      "    return preparer.prepare_linked_requirement(self._ireq, parallel_builds=True)\n",
      "  File \"/home/pratik/.local/lib/python3.10/site-packages/pip/_internal/operations/prepare.py\", line 516, in prepare_linked_requirement\n",
      "    return self._prepare_linked_requirement(req, parallel_builds)\n",
      "  File \"/home/pratik/.local/lib/python3.10/site-packages/pip/_internal/operations/prepare.py\", line 587, in _prepare_linked_requirement\n",
      "    local_file = unpack_url(\n",
      "  File \"/home/pratik/.local/lib/python3.10/site-packages/pip/_internal/operations/prepare.py\", line 166, in unpack_url\n",
      "    file = get_http_url(\n",
      "  File \"/home/pratik/.local/lib/python3.10/site-packages/pip/_internal/operations/prepare.py\", line 107, in get_http_url\n",
      "    from_path, content_type = download(link, temp_dir.path)\n",
      "  File \"/home/pratik/.local/lib/python3.10/site-packages/pip/_internal/network/download.py\", line 147, in __call__\n",
      "    for chunk in chunks:\n",
      "  File \"/home/pratik/.local/lib/python3.10/site-packages/pip/_internal/cli/progress_bars.py\", line 53, in _rich_progress_bar\n",
      "    for chunk in iterable:\n",
      "  File \"/home/pratik/.local/lib/python3.10/site-packages/pip/_internal/network/utils.py\", line 63, in response_chunks\n",
      "    for chunk in response.raw.stream(\n",
      "  File \"/home/pratik/.local/lib/python3.10/site-packages/pip/_vendor/urllib3/response.py\", line 622, in stream\n",
      "    data = self.read(amt=amt, decode_content=decode_content)\n",
      "  File \"/home/pratik/.local/lib/python3.10/site-packages/pip/_vendor/urllib3/response.py\", line 560, in read\n",
      "    with self._error_catcher():\n",
      "  File \"/usr/lib/python3.10/contextlib.py\", line 153, in __exit__\n",
      "    self.gen.throw(typ, value, traceback)\n",
      "  File \"/home/pratik/.local/lib/python3.10/site-packages/pip/_vendor/urllib3/response.py\", line 443, in _error_catcher\n",
      "    raise ReadTimeoutError(self._pool, None, \"Read timed out.\")\n",
      "pip._vendor.urllib3.exceptions.ReadTimeoutError: HTTPSConnectionPool(host='files.pythonhosted.org', port=443): Read timed out.\u001b[0m\u001b[31m\n",
      "\u001b[0m"
     ]
    },
    {
     "ename": "ModuleNotFoundError",
     "evalue": "No module named 'tensorflow'",
     "output_type": "error",
     "traceback": [
      "\u001b[0;31m---------------------------------------------------------------------------\u001b[0m",
      "\u001b[0;31mModuleNotFoundError\u001b[0m                       Traceback (most recent call last)",
      "Input \u001b[0;32mIn [2]\u001b[0m, in \u001b[0;36m<cell line: 2>\u001b[0;34m()\u001b[0m\n\u001b[1;32m      1\u001b[0m get_ipython()\u001b[38;5;241m.\u001b[39msystem(\u001b[38;5;124m'\u001b[39m\u001b[38;5;124mpip install tensorflow\u001b[39m\u001b[38;5;124m'\u001b[39m)\n\u001b[0;32m----> 2\u001b[0m \u001b[38;5;28;01mimport\u001b[39;00m \u001b[38;5;21;01mtensorflow\u001b[39;00m \u001b[38;5;28;01mas\u001b[39;00m \u001b[38;5;21;01mtf\u001b[39;00m\n\u001b[1;32m      3\u001b[0m \u001b[38;5;28;01mimport\u001b[39;00m \u001b[38;5;21;01mtheano\u001b[39;00m \u001b[38;5;28;01mas\u001b[39;00m \u001b[38;5;21;01mT\u001b[39;00m\n",
      "\u001b[0;31mModuleNotFoundError\u001b[0m: No module named 'tensorflow'"
     ]
    }
   ],
   "source": [
    "!pip install tensorflow\n",
    "import tensorflow as tf\n",
    "import theano as T"
   ]
  },
  {
   "cell_type": "markdown",
   "id": "fb5610a1",
   "metadata": {},
   "source": [
    "Print out Tensorflow version"
   ]
  },
  {
   "cell_type": "code",
   "execution_count": null,
   "id": "df305a3b",
   "metadata": {},
   "outputs": [],
   "source": [
    "print(tf.__version__)"
   ]
  },
  {
   "cell_type": "code",
   "execution_count": null,
   "id": "ba31abc7",
   "metadata": {},
   "outputs": [],
   "source": [
    "print(tf.reduce_sum(tf.random.normal([1000,1000])))"
   ]
  },
  {
   "cell_type": "markdown",
   "id": "fe95976a",
   "metadata": {},
   "source": [
    "# Keras Test Program "
   ]
  },
  {
   "cell_type": "code",
   "execution_count": null,
   "id": "4c67c3e7",
   "metadata": {},
   "outputs": [],
   "source": []
  },
  {
   "cell_type": "code",
   "execution_count": null,
   "id": "1d9b0fe7",
   "metadata": {},
   "outputs": [],
   "source": [
    "from keras import datasets"
   ]
  },
  {
   "cell_type": "markdown",
   "id": "0c44ae8c",
   "metadata": {},
   "source": [
    "Loading MNIST Data"
   ]
  },
  {
   "cell_type": "code",
   "execution_count": null,
   "id": "13a195d9",
   "metadata": {},
   "outputs": [],
   "source": [
    "(train_images,train_labels),(test_images,test_labels)=datasets.mnist.load_data()"
   ]
  },
  {
   "cell_type": "markdown",
   "id": "bbc62ecc",
   "metadata": {},
   "source": [
    "Check the dataset loaded"
   ]
  },
  {
   "cell_type": "code",
   "execution_count": null,
   "id": "ac9513b2",
   "metadata": {},
   "outputs": [],
   "source": [
    "train_images.shape,test_images.shape"
   ]
  },
  {
   "cell_type": "markdown",
   "id": "09249e0a",
   "metadata": {},
   "source": [
    "# Theano Test Program"
   ]
  },
  {
   "cell_type": "code",
   "execution_count": null,
   "id": "21c80d95",
   "metadata": {},
   "outputs": [],
   "source": [
    "import numpy"
   ]
  },
  {
   "cell_type": "code",
   "execution_count": null,
   "id": "946ceeba",
   "metadata": {},
   "outputs": [],
   "source": []
  },
  {
   "cell_type": "code",
   "execution_count": null,
   "id": "eaa1a659",
   "metadata": {},
   "outputs": [],
   "source": [
    "from theano import function"
   ]
  },
  {
   "cell_type": "markdown",
   "id": "c9333d30",
   "metadata": {},
   "source": [
    "**Addition of two scalars**"
   ]
  },
  {
   "cell_type": "markdown",
   "id": "8239f5a6",
   "metadata": {},
   "source": [
    "Declaring Two Variables"
   ]
  },
  {
   "cell_type": "code",
   "execution_count": null,
   "id": "7948929a",
   "metadata": {},
   "outputs": [],
   "source": [
    "x = T.dscalar('x')"
   ]
  },
  {
   "cell_type": "code",
   "execution_count": null,
   "id": "7446f8e9",
   "metadata": {},
   "outputs": [],
   "source": [
    "y = T.dscalar('y')"
   ]
  },
  {
   "cell_type": "markdown",
   "id": "ade601d5",
   "metadata": {},
   "source": [
    "summing up the two numbers"
   ]
  },
  {
   "cell_type": "code",
   "execution_count": null,
   "id": "1a2fe4ba",
   "metadata": {},
   "outputs": [],
   "source": [
    "z = x + y"
   ]
  },
  {
   "cell_type": "code",
   "execution_count": null,
   "id": "e9d18cf5",
   "metadata": {},
   "outputs": [],
   "source": [
    "f = function([x,y],z)"
   ]
  },
  {
   "cell_type": "code",
   "execution_count": null,
   "id": "3765e3da",
   "metadata": {},
   "outputs": [],
   "source": [
    "f(5,7)"
   ]
  },
  {
   "cell_type": "markdown",
   "id": "1bf63ad2",
   "metadata": {},
   "source": [
    "# PyTorch Test Program"
   ]
  },
  {
   "cell_type": "code",
   "execution_count": null,
   "id": "d5e9078a",
   "metadata": {},
   "outputs": [],
   "source": []
  },
  {
   "cell_type": "markdown",
   "id": "b17befc1",
   "metadata": {},
   "source": [
    "Importing torch"
   ]
  },
  {
   "cell_type": "code",
   "execution_count": null,
   "id": "24841c86",
   "metadata": {},
   "outputs": [],
   "source": [
    "import torch"
   ]
  },
  {
   "cell_type": "code",
   "execution_count": null,
   "id": "8e729110",
   "metadata": {},
   "outputs": [],
   "source": [
    "import torch.nn as nn"
   ]
  },
  {
   "cell_type": "markdown",
   "id": "ebece799",
   "metadata": {},
   "source": [
    "Print out  PyTorch version"
   ]
  },
  {
   "cell_type": "code",
   "execution_count": null,
   "id": "2e56ac9c",
   "metadata": {},
   "outputs": [],
   "source": [
    "print(torch.__version__)"
   ]
  },
  {
   "cell_type": "code",
   "execution_count": null,
   "id": "276cf051",
   "metadata": {},
   "outputs": [],
   "source": []
  }
 ],
 "metadata": {
  "kernelspec": {
   "display_name": "Python 3 (ipykernel)",
   "language": "python",
   "name": "python3"
  },
  "language_info": {
   "codemirror_mode": {
    "name": "ipython",
    "version": 3
   },
   "file_extension": ".py",
   "mimetype": "text/x-python",
   "name": "python",
   "nbconvert_exporter": "python",
   "pygments_lexer": "ipython3",
   "version": "3.10.12"
  }
 },
 "nbformat": 4,
 "nbformat_minor": 5
}
